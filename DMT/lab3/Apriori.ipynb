{
 "cells": [
  {
   "cell_type": "code",
   "execution_count": 1,
   "id": "45fd3a22-c3cd-4d8a-9291-d743e79382a4",
   "metadata": {
    "scrolled": true
   },
   "outputs": [
    {
     "name": "stdout",
     "output_type": "stream",
     "text": [
      "Requirement already satisfied: pandas in c:\\users\\vignan\\anaconda3\\lib\\site-packages (2.2.2)\n",
      "Collecting mlxtend\n",
      "  Downloading mlxtend-0.23.4-py3-none-any.whl.metadata (7.3 kB)\n",
      "Requirement already satisfied: numpy>=1.26.0 in c:\\users\\vignan\\anaconda3\\lib\\site-packages (from pandas) (1.26.4)\n",
      "Requirement already satisfied: python-dateutil>=2.8.2 in c:\\users\\vignan\\anaconda3\\lib\\site-packages (from pandas) (2.9.0.post0)\n",
      "Requirement already satisfied: pytz>=2020.1 in c:\\users\\vignan\\anaconda3\\lib\\site-packages (from pandas) (2024.1)\n",
      "Requirement already satisfied: tzdata>=2022.7 in c:\\users\\vignan\\anaconda3\\lib\\site-packages (from pandas) (2023.3)\n",
      "Requirement already satisfied: scipy>=1.2.1 in c:\\users\\vignan\\anaconda3\\lib\\site-packages (from mlxtend) (1.13.1)\n",
      "Requirement already satisfied: scikit-learn>=1.3.1 in c:\\users\\vignan\\anaconda3\\lib\\site-packages (from mlxtend) (1.5.1)\n",
      "Requirement already satisfied: matplotlib>=3.0.0 in c:\\users\\vignan\\anaconda3\\lib\\site-packages (from mlxtend) (3.9.2)\n",
      "Requirement already satisfied: joblib>=0.13.2 in c:\\users\\vignan\\anaconda3\\lib\\site-packages (from mlxtend) (1.4.2)\n",
      "Requirement already satisfied: contourpy>=1.0.1 in c:\\users\\vignan\\anaconda3\\lib\\site-packages (from matplotlib>=3.0.0->mlxtend) (1.2.0)\n",
      "Requirement already satisfied: cycler>=0.10 in c:\\users\\vignan\\anaconda3\\lib\\site-packages (from matplotlib>=3.0.0->mlxtend) (0.11.0)\n",
      "Requirement already satisfied: fonttools>=4.22.0 in c:\\users\\vignan\\anaconda3\\lib\\site-packages (from matplotlib>=3.0.0->mlxtend) (4.51.0)\n",
      "Requirement already satisfied: kiwisolver>=1.3.1 in c:\\users\\vignan\\anaconda3\\lib\\site-packages (from matplotlib>=3.0.0->mlxtend) (1.4.4)\n",
      "Requirement already satisfied: packaging>=20.0 in c:\\users\\vignan\\anaconda3\\lib\\site-packages (from matplotlib>=3.0.0->mlxtend) (24.1)\n",
      "Requirement already satisfied: pillow>=8 in c:\\users\\vignan\\anaconda3\\lib\\site-packages (from matplotlib>=3.0.0->mlxtend) (10.4.0)\n",
      "Requirement already satisfied: pyparsing>=2.3.1 in c:\\users\\vignan\\anaconda3\\lib\\site-packages (from matplotlib>=3.0.0->mlxtend) (3.1.2)\n",
      "Requirement already satisfied: six>=1.5 in c:\\users\\vignan\\anaconda3\\lib\\site-packages (from python-dateutil>=2.8.2->pandas) (1.16.0)\n",
      "Requirement already satisfied: threadpoolctl>=3.1.0 in c:\\users\\vignan\\anaconda3\\lib\\site-packages (from scikit-learn>=1.3.1->mlxtend) (3.5.0)\n",
      "Downloading mlxtend-0.23.4-py3-none-any.whl (1.4 MB)\n",
      "   ---------------------------------------- 0.0/1.4 MB ? eta -:--:--\n",
      "   ---------------------------------------- 1.4/1.4 MB 14.0 MB/s eta 0:00:00\n",
      "Installing collected packages: mlxtend\n",
      "Successfully installed mlxtend-0.23.4\n",
      "Note: you may need to restart the kernel to use updated packages.\n"
     ]
    }
   ],
   "source": [
    "pip install pandas mlxtend"
   ]
  },
  {
   "cell_type": "code",
   "execution_count": 1,
   "id": "7cfb7ce3-9e16-4268-b8f8-f75e7ce12264",
   "metadata": {},
   "outputs": [
    {
     "name": "stdout",
     "output_type": "stream",
     "text": [
      "                                   antecedents  \\\n",
      "15180  (other vegetables, whole milk, sausage)   \n",
      "15189                     (yogurt, rolls/buns)   \n",
      "15175   (other vegetables, yogurt, rolls/buns)   \n",
      "15194                    (whole milk, sausage)   \n",
      "12798                           (yogurt, curd)   \n",
      "12799                    (whole milk, sausage)   \n",
      "15186               (other vegetables, yogurt)   \n",
      "15183        (whole milk, sausage, rolls/buns)   \n",
      "15190                    (sausage, rolls/buns)   \n",
      "15179   (other vegetables, yogurt, whole milk)   \n",
      "\n",
      "                                   consequents   support  confidence      lift  \n",
      "15180                     (yogurt, rolls/buns)  0.013597    0.270408  2.428689  \n",
      "15189  (other vegetables, whole milk, sausage)  0.013597    0.122120  2.428689  \n",
      "15175                    (whole milk, sausage)  0.013597    0.259804  2.428575  \n",
      "15194   (other vegetables, yogurt, rolls/buns)  0.013597    0.127098  2.428575  \n",
      "12798                    (whole milk, sausage)  0.010005    0.248408  2.322046  \n",
      "12799                           (yogurt, curd)  0.010005    0.093525  2.322046  \n",
      "15186        (whole milk, sausage, rolls/buns)  0.013597    0.113006  2.318415  \n",
      "15183               (other vegetables, yogurt)  0.013597    0.278947  2.318415  \n",
      "15190   (other vegetables, yogurt, whole milk)  0.013597    0.165109  2.298554  \n",
      "15179                    (sausage, rolls/buns)  0.013597    0.189286  2.298554  \n"
     ]
    }
   ],
   "source": [
    "import pandas as pd\n",
    "from mlxtend.frequent_patterns import apriori, association_rules\n",
    "from mlxtend.preprocessing import TransactionEncoder\n",
    "\n",
    "# Step 1: Load the dataset\n",
    "# Assuming you downloaded 'Groceries_dataset.csv' from Kaggle\n",
    "df = pd.read_csv('Groceries_dataset.csv')\n",
    "\n",
    "# Step 2: Group items by Transaction ID\n",
    "transactions = df.groupby('Member_number')['itemDescription'].apply(list).tolist()\n",
    "\n",
    "# Step 3: Convert transactions to a one-hot encoded format\n",
    "te = TransactionEncoder()\n",
    "te_ary = te.fit(transactions).transform(transactions)\n",
    "df_encoded = pd.DataFrame(te_ary, columns=te.columns_)\n",
    "\n",
    "# Step 4: Apply Apriori algorithm\n",
    "frequent_itemsets = apriori(df_encoded, min_support=0.01, use_colnames=True)\n",
    "\n",
    "# Step 5: Generate association rules\n",
    "rules = association_rules(frequent_itemsets, metric=\"lift\", min_threshold=1)\n",
    "\n",
    "# Step 6: Sort rules by confidence or lift\n",
    "rules = rules.sort_values(by='lift', ascending=False)\n",
    "\n",
    "# Display top rules\n",
    "print(rules[['antecedents', 'consequents', 'support', 'confidence', 'lift']].head(10))\n"
   ]
  }
 ],
 "metadata": {
  "kernelspec": {
   "display_name": "base",
   "language": "python",
   "name": "python3"
  },
  "language_info": {
   "codemirror_mode": {
    "name": "ipython",
    "version": 3
   },
   "file_extension": ".py",
   "mimetype": "text/x-python",
   "name": "python",
   "nbconvert_exporter": "python",
   "pygments_lexer": "ipython3",
   "version": "3.12.7"
  }
 },
 "nbformat": 4,
 "nbformat_minor": 5
}
